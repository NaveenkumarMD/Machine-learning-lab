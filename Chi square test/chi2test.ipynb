{
  "nbformat": 4,
  "nbformat_minor": 0,
  "metadata": {
    "colab": {
      "name": "chi2test.ipynb",
      "provenance": [],
      "collapsed_sections": []
    },
    "kernelspec": {
      "name": "python3",
      "display_name": "Python 3"
    },
    "language_info": {
      "name": "python"
    }
  },
  "cells": [
    {
      "cell_type": "code",
      "execution_count": 51,
      "metadata": {
        "id": "DfrT56Yqn29I"
      },
      "outputs": [],
      "source": [
        "import pandas as pd\n",
        "import numpy as np\n",
        "import scipy.stats"
      ]
    },
    {
      "cell_type": "code",
      "source": [
        "df=pd.read_csv(\"https://raw.githubusercontent.com/NaveenkumarMD/Machine-learning-lab/main/Chi%20square%20test/housingdata.csv\")\n",
        "\n",
        "#Extracting pnly the requored features and comverting them to numpy arrays\n",
        "bldgtypearr=df[\"BldgType\"].to_numpy()\n",
        "housestylearr=df[\"HouseStyle\"].to_numpy()\n",
        "nparr=df[[\"BldgType\",\"HouseStyle\"]].to_numpy()\n"
      ],
      "metadata": {
        "id": "8_cw6SZQKs5_"
      },
      "execution_count": 17,
      "outputs": []
    },
    {
      "cell_type": "code",
      "source": [
        "#getting unique buildingtypes\n",
        "uniquebldtypes=np.sort(np.unique(bldgtypearr))\n",
        "uniquehousetypes=np.sort(np.unique(housestylearr))\n",
        "\n",
        "print(uniquebldtypes)\n",
        "print(uniquehousetypes)"
      ],
      "metadata": {
        "colab": {
          "base_uri": "https://localhost:8080/"
        },
        "id": "iHXBa14VM8bH",
        "outputId": "b86af23c-ea0c-46f6-d2b6-2865a47754bd"
      },
      "execution_count": 22,
      "outputs": [
        {
          "output_type": "stream",
          "name": "stdout",
          "text": [
            "['1Fam' '2fmCon' 'Duplex' 'Twnhs' 'TwnhsE']\n",
            "['1.5Fin' '1.5Unf' '1Story' '2.5Unf' '2Story' 'SFoyer' 'SLvl']\n"
          ]
        }
      ]
    },
    {
      "cell_type": "code",
      "source": [
        "#Getting the total counts of columns\n",
        "\n",
        "#buildingtypes\n",
        "buildingtypeseachcount={\n",
        "    i:0 for i in uniquebldtypes\n",
        "}\n",
        "for i in bldgtypearr:\n",
        "  if i in buildingtypeseachcount:\n",
        "    buildingtypeseachcount[i]+=1\n",
        "#Housetype\n",
        "housetypeeachcount={\n",
        "    i:0 for i in uniquehousetypes\n",
        "}\n",
        "for i in housestylearr:\n",
        "  if i in housetypeeachcount:\n",
        "    housetypeeachcount[i]+=1\n",
        "\n",
        "totalvalues=sum(buildingtypeseachcount.values())\n",
        "print(buildingtypeseachcount)\n",
        "print(housetypeeachcount)\n",
        "print(totalvalues)\n"
      ],
      "metadata": {
        "colab": {
          "base_uri": "https://localhost:8080/"
        },
        "id": "6K4iXsBqNu9_",
        "outputId": "3cf61e6f-f4af-4b64-8d5a-0c54992fc28f"
      },
      "execution_count": 25,
      "outputs": [
        {
          "output_type": "stream",
          "name": "stdout",
          "text": [
            "{'1Fam': 1205, '2fmCon': 31, 'Duplex': 57, 'Twnhs': 53, 'TwnhsE': 113}\n",
            "{'1.5Fin': 160, '1.5Unf': 5, '1Story': 745, '2.5Unf': 13, '2Story': 427, 'SFoyer': 46, 'SLvl': 63}\n",
            "1459\n"
          ]
        }
      ]
    },
    {
      "cell_type": "code",
      "source": [
        "\"\"\"\n",
        "2d array of observed values\n",
        "-building types in columns\n",
        "-housetypes in rows\n",
        "\"\"\"\n",
        "observedfrequencyarr=[\n",
        "                      [0]*len(buildingtypeseachcount) for i in range(len(housetypeeachcount))\n",
        "]\n",
        "print(observedfrequencyarr)\n",
        "\n",
        "for bldtype,housetype in nparr:\n",
        "    bldtypeindex=uniquebldtypes.tolist().index(bldtype)\n",
        "    housetypeindex=uniquehousetypes.tolist().index(housetype)\n",
        "    observedfrequencyarr[housetypeindex][bldtypeindex]+=1\n",
        "observedfrequencyarr\n"
      ],
      "metadata": {
        "colab": {
          "base_uri": "https://localhost:8080/"
        },
        "id": "2yHXFO1fVdtg",
        "outputId": "cd83da4f-9c98-4c7a-a81f-a868340537d6"
      },
      "execution_count": 31,
      "outputs": [
        {
          "output_type": "stream",
          "name": "stdout",
          "text": [
            "[[0, 0, 0, 0, 0], [0, 0, 0, 0, 0], [0, 0, 0, 0, 0], [0, 0, 0, 0, 0], [0, 0, 0, 0, 0], [0, 0, 0, 0, 0], [0, 0, 0, 0, 0]]\n"
          ]
        },
        {
          "output_type": "execute_result",
          "data": {
            "text/plain": [
              "[[147, 11, 1, 1, 0],\n",
              " [5, 0, 0, 0, 0],\n",
              " [615, 9, 28, 10, 83],\n",
              " [9, 2, 2, 0, 0],\n",
              " [341, 7, 16, 37, 26],\n",
              " [28, 2, 10, 2, 4],\n",
              " [60, 0, 0, 3, 0]]"
            ]
          },
          "metadata": {},
          "execution_count": 31
        }
      ]
    },
    {
      "cell_type": "code",
      "source": [
        "\"\"\"\n",
        "Expected frequency table\n",
        "-building types in columns\n",
        "-housetypes in rows\n",
        "\"\"\"\n",
        "expectedfrequencyarr=[\n",
        "                      [0]*len(buildingtypeseachcount) for i in range(len(housetypeeachcount))\n",
        "]\n",
        "for housingtype,housingcount in housetypeeachcount.items():\n",
        "  for buildingtype,buildingcount in buildingtypeseachcount.items():\n",
        "        bldtypeindex=uniquebldtypes.tolist().index(buildingtype)\n",
        "        housetypeindex=uniquehousetypes.tolist().index(housingtype)\n",
        "        expectedfrequencyarr[housetypeindex][bldtypeindex]=(housingcount*buildingcount)/totalvalues\n",
        "expectedfrequencyarr\n",
        "\n"
      ],
      "metadata": {
        "id": "1WnwxJn8YKSA"
      },
      "execution_count": null,
      "outputs": []
    },
    {
      "cell_type": "code",
      "source": [
        "\"\"\"\n",
        "Formula\n",
        "chi2=((O-E)**2)/E\n",
        "\"\"\"\n",
        "#Flattening the arrays\n",
        "\n",
        "flattenedexpected=np.array(expectedfrequencyarr).reshape(-1)\n",
        "flattenedobserved=np.array(observedfrequencyarr).reshape(-1)\n",
        "\n",
        "chi_square=[]\n",
        "print(len(flattenedexpected))\n",
        "print(len(flattenedobserved))\n",
        "for i in range(len(flattenedexpected)):\n",
        "  chi_square.append(((flattenedobserved[i]-flattenedexpected[i])**2)/flattenedexpected[i])\n",
        "\n",
        "total_chi_square=sum(chi_square)\n",
        "\n",
        "print(\"The observed chi square value is \",total_chi_square)"
      ],
      "metadata": {
        "colab": {
          "base_uri": "https://localhost:8080/"
        },
        "id": "tSgSm4n0an3Q",
        "outputId": "a3a5f6bd-11b7-4f80-fc45-50043fa5982b"
      },
      "execution_count": 50,
      "outputs": [
        {
          "output_type": "stream",
          "name": "stdout",
          "text": [
            "35\n",
            "35\n"
          ]
        },
        {
          "output_type": "execute_result",
          "data": {
            "text/plain": [
              "165.7909666551474"
            ]
          },
          "metadata": {},
          "execution_count": 50
        }
      ]
    },
    {
      "cell_type": "code",
      "source": [
        "\n",
        "\"\"\"\n",
        "compare it with table value\n",
        "\"\"\"\n",
        "degrees_of_freedom=(len(uniquebldtypes)-1)*(len(uniquehousetypes)-1)\n",
        "table_chi2_value=scipy.stats.chi2.ppf(1-.05, df=degrees_of_freedom)\n",
        "if table_chi2_value<total_chi_square:\n",
        "  print(\"The features are related to each other\")\n",
        "else:\n",
        "  print(\"the features are significant.\")"
      ],
      "metadata": {
        "colab": {
          "base_uri": "https://localhost:8080/"
        },
        "id": "Q6F0EJ9QdjH3",
        "outputId": "4ac541bf-2582-47d1-bd27-a740efdd8896"
      },
      "execution_count": 55,
      "outputs": [
        {
          "output_type": "stream",
          "name": "stdout",
          "text": [
            "The features are related to each other\n"
          ]
        }
      ]
    }
  ]
}